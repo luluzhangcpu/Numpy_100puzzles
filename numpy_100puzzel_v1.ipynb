{
 "cells": [
  {
   "cell_type": "code",
   "execution_count": 1,
   "metadata": {},
   "outputs": [],
   "source": [
    "# numpy_100_puzzles\n",
    "\n",
    "# task1\n",
    "# Import the numpy package under the name np\n",
    "# 以np的名称导入numpy包\n",
    "import numpy as np"
   ]
  },
  {
   "cell_type": "code",
   "execution_count": 2,
   "metadata": {},
   "outputs": [
    {
     "name": "stdout",
     "output_type": "stream",
     "text": [
      "1.18.1\n",
      "blas_mkl_info:\n",
      "    libraries = ['mkl_rt', 'pthread']\n",
      "    library_dirs = ['/opt/anaconda3/lib']\n",
      "    define_macros = [('SCIPY_MKL_H', None), ('HAVE_CBLAS', None)]\n",
      "    include_dirs = ['/opt/anaconda3/include']\n",
      "blas_opt_info:\n",
      "    libraries = ['mkl_rt', 'pthread']\n",
      "    library_dirs = ['/opt/anaconda3/lib']\n",
      "    define_macros = [('SCIPY_MKL_H', None), ('HAVE_CBLAS', None)]\n",
      "    include_dirs = ['/opt/anaconda3/include']\n",
      "lapack_mkl_info:\n",
      "    libraries = ['mkl_rt', 'pthread']\n",
      "    library_dirs = ['/opt/anaconda3/lib']\n",
      "    define_macros = [('SCIPY_MKL_H', None), ('HAVE_CBLAS', None)]\n",
      "    include_dirs = ['/opt/anaconda3/include']\n",
      "lapack_opt_info:\n",
      "    libraries = ['mkl_rt', 'pthread']\n",
      "    library_dirs = ['/opt/anaconda3/lib']\n",
      "    define_macros = [('SCIPY_MKL_H', None), ('HAVE_CBLAS', None)]\n",
      "    include_dirs = ['/opt/anaconda3/include']\n"
     ]
    }
   ],
   "source": [
    "# task2\n",
    "# Print the numpy version and the configuration\n",
    "# 打印numpy版本和配置\n",
    "a = np.__version__\n",
    "print(a)\n",
    "np.show_config()"
   ]
  },
  {
   "cell_type": "code",
   "execution_count": 3,
   "metadata": {},
   "outputs": [
    {
     "name": "stdout",
     "output_type": "stream",
     "text": [
      "[0. 0. 0. 0. 0. 0. 0. 0. 0. 0.]\n"
     ]
    }
   ],
   "source": [
    "# task3\n",
    "# Create a null vector of size 10\n",
    "# 创建一个大小为10的空向量\n",
    "ar1 = np.zeros((10))\n",
    "print(ar1)"
   ]
  },
  {
   "cell_type": "code",
   "execution_count": 4,
   "metadata": {},
   "outputs": [
    {
     "name": "stdout",
     "output_type": "stream",
     "text": [
      "float64\n",
      "80\n",
      "该数组共占内存80 bytes\n"
     ]
    }
   ],
   "source": [
    "# task4\n",
    "# How to find the memory size of any array\n",
    "# 如何找到任何数组的内存大小\n",
    "print(ar1.dtype)\n",
    "a = ar1.size * ar1.itemsize\n",
    "print(a)\n",
    "print('该数组共占内存%d bytes' % a)"
   ]
  },
  {
   "cell_type": "code",
   "execution_count": 5,
   "metadata": {},
   "outputs": [
    {
     "name": "stdout",
     "output_type": "stream",
     "text": [
      "add(x1, x2, /, out=None, *, where=True, casting='same_kind', order='K', dtype=None, subok=True[, signature, extobj])\n",
      "\n",
      "Add arguments element-wise.\n",
      "\n",
      "Parameters\n",
      "----------\n",
      "x1, x2 : array_like\n",
      "    The arrays to be added. If ``x1.shape != x2.shape``, they must be broadcastable to a common shape (which becomes the shape of the output).\n",
      "out : ndarray, None, or tuple of ndarray and None, optional\n",
      "    A location into which the result is stored. If provided, it must have\n",
      "    a shape that the inputs broadcast to. If not provided or None,\n",
      "    a freshly-allocated array is returned. A tuple (possible only as a\n",
      "    keyword argument) must have length equal to the number of outputs.\n",
      "where : array_like, optional\n",
      "    This condition is broadcast over the input. At locations where the\n",
      "    condition is True, the `out` array will be set to the ufunc result.\n",
      "    Elsewhere, the `out` array will retain its original value.\n",
      "    Note that if an uninitialized `out` array is created via the default\n",
      "    ``out=None``, locations within it where the condition is False will\n",
      "    remain uninitialized.\n",
      "**kwargs\n",
      "    For other keyword-only arguments, see the\n",
      "    :ref:`ufunc docs <ufuncs.kwargs>`.\n",
      "\n",
      "Returns\n",
      "-------\n",
      "add : ndarray or scalar\n",
      "    The sum of `x1` and `x2`, element-wise.\n",
      "    This is a scalar if both `x1` and `x2` are scalars.\n",
      "\n",
      "Notes\n",
      "-----\n",
      "Equivalent to `x1` + `x2` in terms of array broadcasting.\n",
      "\n",
      "Examples\n",
      "--------\n",
      ">>> np.add(1.0, 4.0)\n",
      "5.0\n",
      ">>> x1 = np.arange(9.0).reshape((3, 3))\n",
      ">>> x2 = np.arange(3.0)\n",
      ">>> np.add(x1, x2)\n",
      "array([[  0.,   2.,   4.],\n",
      "       [  3.,   5.,   7.],\n",
      "       [  6.,   8.,  10.]])\n",
      "Help on NoneType object:\n",
      "\n",
      "class NoneType(object)\n",
      " |  Methods defined here:\n",
      " |  \n",
      " |  __bool__(self, /)\n",
      " |      self != 0\n",
      " |  \n",
      " |  __repr__(self, /)\n",
      " |      Return repr(self).\n",
      " |  \n",
      " |  ----------------------------------------------------------------------\n",
      " |  Static methods defined here:\n",
      " |  \n",
      " |  __new__(*args, **kwargs) from builtins.type\n",
      " |      Create and return a new object.  See help(type) for accurate signature.\n",
      "\n"
     ]
    }
   ],
   "source": [
    "# task5\n",
    "# How to get the documentation of the numpy add function\n",
    "# from the command line\n",
    "# 如何从命令行获得numpy add函数的文档\n",
    "a = np.info(np.add)\n",
    "help(a)"
   ]
  },
  {
   "cell_type": "code",
   "execution_count": 6,
   "metadata": {},
   "outputs": [
    {
     "name": "stdout",
     "output_type": "stream",
     "text": [
      "[0. 0. 0. 0. 1. 0. 0. 0. 0. 0.]\n"
     ]
    }
   ],
   "source": [
    "# task6\n",
    "# Create a null vector of size 10 but the fifth value which is 1\n",
    "# 创建一个大小为10但第五个值为1的空向量\n",
    "a = np.zeros(10)\n",
    "a[4] = 1\n",
    "print(a)"
   ]
  },
  {
   "cell_type": "code",
   "execution_count": 7,
   "metadata": {},
   "outputs": [
    {
     "name": "stdout",
     "output_type": "stream",
     "text": [
      "[10 11 12 13 14 15 16 17 18 19 20 21 22 23 24 25 26 27 28 29 30 31 32 33\n",
      " 34 35 36 37 38 39 40 41 42 43 44 45 46 47 48 49]\n"
     ]
    }
   ],
   "source": [
    "# task7\n",
    "# Create a vector with values ranging from 10 to 49\n",
    "# 创建一个值从10到49的向量\n",
    "a = np.arange(10,50)\n",
    "print(a)"
   ]
  },
  {
   "cell_type": "code",
   "execution_count": 8,
   "metadata": {},
   "outputs": [
    {
     "name": "stdout",
     "output_type": "stream",
     "text": [
      "[11 10  9  8  7  6  5  4  3  2]\n"
     ]
    }
   ],
   "source": [
    "# task8\n",
    "# Reverse a vector (first element becomes last)\n",
    "# 反转一个向量(第一个元素变成最后一个)\n",
    "a = np.arange(2,12)\n",
    "b = a[::-1]\n",
    "print(b)"
   ]
  },
  {
   "cell_type": "code",
   "execution_count": 9,
   "metadata": {},
   "outputs": [
    {
     "name": "stdout",
     "output_type": "stream",
     "text": [
      "[[0 1 2]\n",
      " [3 4 5]\n",
      " [6 7 8]]\n"
     ]
    }
   ],
   "source": [
    "# task9\n",
    "# Create a 3x3 matrix with values ranging from 0 to 8\n",
    "# 创建一个3x3的矩阵，其值从0到8\n",
    "ar1 = np.arange(9).reshape((3,3))\n",
    "print(ar1)"
   ]
  },
  {
   "cell_type": "code",
   "execution_count": 10,
   "metadata": {},
   "outputs": [
    {
     "name": "stdout",
     "output_type": "stream",
     "text": [
      "[1 2 0 0 4 0]\n",
      "------------------------------\n",
      "(array([0, 1, 4]),)\n",
      "------------------------------\n",
      "(array([0, 1, 4]),)\n"
     ]
    }
   ],
   "source": [
    "# task10\n",
    "# Find indices of non-zero elements from [1,2,0,0,4,0]\n",
    "# 查找[1,2,0,0,4,0]中非零元素的索引\n",
    "# 第一种做法\n",
    "a = np.array([1,2,0,0,4,0])\n",
    "print(a)\n",
    "print('-'*30)\n",
    "b = np.where(a != 0)\n",
    "print(b)\n",
    "print('-'*30)\n",
    "# 第二种做法\n",
    "c = np.nonzero([1,2,0,0,4,0])\n",
    "print(c)"
   ]
  },
  {
   "cell_type": "code",
   "execution_count": 11,
   "metadata": {},
   "outputs": [
    {
     "name": "stdout",
     "output_type": "stream",
     "text": [
      "[[1. 0. 0.]\n",
      " [0. 1. 0.]\n",
      " [0. 0. 1.]]\n"
     ]
    }
   ],
   "source": [
    "# task11\n",
    "# Create a 3x3 identity matrix\n",
    "# 创建一个3x3单位矩阵\n",
    "a = np.eye(3)\n",
    "print(a)"
   ]
  },
  {
   "cell_type": "code",
   "execution_count": 12,
   "metadata": {},
   "outputs": [
    {
     "name": "stdout",
     "output_type": "stream",
     "text": [
      "[[[0.87407682 0.03846413 0.04727434]\n",
      "  [0.9027128  0.50076378 0.46149868]\n",
      "  [0.23599669 0.96877659 0.73863505]]\n",
      "\n",
      " [[0.40384065 0.86212269 0.00824019]\n",
      "  [0.9592884  0.78507362 0.32249149]\n",
      "  [0.68714393 0.60585957 0.8262829 ]]\n",
      "\n",
      " [[0.26789322 0.69893652 0.36957537]\n",
      "  [0.96449701 0.7040175  0.45812104]\n",
      "  [0.9215238  0.01160888 0.23903919]]]\n"
     ]
    }
   ],
   "source": [
    "# task12\n",
    "# Create a 3x3x3 array with random values\n",
    "# 创建一个随机值的3x3x3数组\n",
    "a = np.random.random((3,3,3))\n",
    "print(a)"
   ]
  },
  {
   "cell_type": "code",
   "execution_count": 13,
   "metadata": {},
   "outputs": [
    {
     "name": "stdout",
     "output_type": "stream",
     "text": [
      "[[0.59648057 0.83929559 0.93734462 0.3846698  0.24655406 0.61440593\n",
      "  0.40178744 0.83839002 0.74031376 0.60483611]\n",
      " [0.28112862 0.76422044 0.93913875 0.99471993 0.86266051 0.20743354\n",
      "  0.54313174 0.53565732 0.38064101 0.191275  ]\n",
      " [0.88262942 0.73447402 0.66941107 0.80751822 0.46304995 0.58898039\n",
      "  0.47469569 0.75412915 0.34831853 0.4326496 ]\n",
      " [0.75134044 0.4158975  0.49203771 0.00208329 0.77162617 0.08574156\n",
      "  0.05165993 0.47769641 0.65331841 0.67731991]\n",
      " [0.87666467 0.40530841 0.42268506 0.64839955 0.64921464 0.41173978\n",
      "  0.59424166 0.32772366 0.90049632 0.52205073]\n",
      " [0.97370102 0.01978921 0.31553404 0.95875925 0.92573178 0.35812698\n",
      "  0.10682319 0.18328097 0.02389297 0.87549331]\n",
      " [0.07196797 0.9520177  0.31123695 0.81393538 0.01698285 0.36570992\n",
      "  0.13631522 0.26321723 0.13206478 0.12623152]\n",
      " [0.06700035 0.30823316 0.22575751 0.30480665 0.39311467 0.10641889\n",
      "  0.83726866 0.76524631 0.27132642 0.69536393]\n",
      " [0.53425209 0.22545141 0.37568155 0.21021787 0.73110223 0.48121632\n",
      "  0.62582445 0.00395957 0.16387627 0.49827625]\n",
      " [0.29332595 0.99396832 0.88259331 0.20576681 0.3695771  0.43078167\n",
      "  0.62058544 0.45191416 0.6903509  0.23114005]]\n",
      "该数组最大值为 0.994720\n",
      "该数组最小值为 0.002083\n"
     ]
    }
   ],
   "source": [
    "# task13\n",
    "# Create a 10x10 array with random values and find the minimum and maximum values\n",
    "# 用随机值创建一个10x10的数组，并找出最小值和最大值\n",
    "a = np.random.random((10,10))\n",
    "print(a)\n",
    "b = a.max()\n",
    "c = a.min()\n",
    "print('该数组最大值为 %.6f' % b)\n",
    "print('该数组最小值为 %.6f' % c)"
   ]
  },
  {
   "cell_type": "code",
   "execution_count": 14,
   "metadata": {},
   "outputs": [
    {
     "name": "stdout",
     "output_type": "stream",
     "text": [
      "[0.07167842 0.17775334 0.42249504 0.56054308 0.31258894 0.71915376\n",
      " 0.0862239  0.41377002 0.94691212 0.9839008  0.01880613 0.73301745\n",
      " 0.70032303 0.55913846 0.43584019 0.26843118 0.62649031 0.66096043\n",
      " 0.28331564 0.90796845 0.55845195 0.11773597 0.47702384 0.26221641\n",
      " 0.59794401 0.53141391 0.92385076 0.68727426 0.6323139  0.30799112]\n",
      "------------------------------\n",
      "0.49951756082576954\n"
     ]
    }
   ],
   "source": [
    "# task14\n",
    "# Create a random vector of size 30 and find the mean value\n",
    "# 创建一个大小为30的随机向量，并求其平均值\n",
    "a = np.random.random(30)\n",
    "print(a)\n",
    "print('-'*30)\n",
    "print(a.mean())"
   ]
  },
  {
   "cell_type": "code",
   "execution_count": 15,
   "metadata": {},
   "outputs": [
    {
     "name": "stdout",
     "output_type": "stream",
     "text": [
      "[[1. 1. 1. 1.]\n",
      " [1. 0. 0. 1.]\n",
      " [1. 0. 0. 1.]\n",
      " [1. 0. 0. 1.]\n",
      " [1. 1. 1. 1.]]\n"
     ]
    }
   ],
   "source": [
    "# task15\n",
    "# Create a 2d array with 1 on the border and 0 inside\n",
    "# 创建一个2d数组，边界为1，内部为0\n",
    "a = np.ones((5,4))\n",
    "a[1:-1,1:-1] = 0\n",
    "print(a)"
   ]
  },
  {
   "cell_type": "code",
   "execution_count": 17,
   "metadata": {},
   "outputs": [
    {
     "name": "stdout",
     "output_type": "stream",
     "text": [
      "[[0.         0.         0.         0.         0.         0.\n",
      "  0.        ]\n",
      " [0.         0.09624583 0.20230695 0.09142724 0.57633067 0.78399018\n",
      "  0.        ]\n",
      " [0.         0.74226155 0.48981468 0.15514842 0.26116819 0.31803061\n",
      "  0.        ]\n",
      " [0.         0.55330199 0.07870671 0.06561877 0.97595479 0.17972007\n",
      "  0.        ]\n",
      " [0.         0.         0.         0.         0.         0.\n",
      "  0.        ]]\n"
     ]
    }
   ],
   "source": [
    "# task16\n",
    "# How to add a border (filled with 0's) around an existing array?\n",
    "# 如何添加边界(填满0's)周围的一个现有的数组?\n",
    "# 第一种做法\n",
    "a = np.zeros((5,7))\n",
    "b = np.random.random((3,5))\n",
    "a[1:-1,1:-1] = b\n",
    "print(a)"
   ]
  },
  {
   "cell_type": "code",
   "execution_count": 18,
   "metadata": {},
   "outputs": [
    {
     "name": "stdout",
     "output_type": "stream",
     "text": [
      "[[0. 0. 0. 0. 0. 0. 0.]\n",
      " [0. 1. 1. 1. 1. 1. 0.]\n",
      " [0. 1. 1. 1. 1. 1. 0.]\n",
      " [0. 1. 1. 1. 1. 1. 0.]\n",
      " [0. 1. 1. 1. 1. 1. 0.]\n",
      " [0. 1. 1. 1. 1. 1. 0.]\n",
      " [0. 0. 0. 0. 0. 0. 0.]]\n"
     ]
    }
   ],
   "source": [
    "# 第二种做法\n",
    "z = np.ones((5,5))\n",
    "# np.pad 是对数组 进行填充的方法\n",
    "z = np.pad(z,pad_width = 1,mode='constant',constant_values =0)\n",
    "print(z)"
   ]
  },
  {
   "cell_type": "code",
   "execution_count": 19,
   "metadata": {},
   "outputs": [
    {
     "name": "stdout",
     "output_type": "stream",
     "text": [
      "nan\n",
      "False\n",
      "False\n",
      "nan\n",
      "True\n",
      "False\n"
     ]
    }
   ],
   "source": [
    "# task17\n",
    "# What is the result of the following expression?\n",
    "# 下面这个表达式的结果是什么?\n",
    "# 0 * np.nan\n",
    "# np.nan == np.nan\n",
    "# np.inf > np.nan\n",
    "# np.nan - np.nan\n",
    "# np.nan in set([np.nan])\n",
    "# 0.3 == 3 * 0.1\n",
    "print(0 * np.nan) # 结果为 nan\n",
    "print(np.nan == np.nan) # 结果为 False\n",
    "print(np.inf > np.nan) # 结果为 False,且 np.inf 表示+∞，是没有确切的数值的,类型为浮点型\n",
    "print(np.nan - np.nan) # 结果为 nan\n",
    "print(np.nan in set([np.nan])) # 结果为 True\n",
    "print(0.3 == 3 * 0.1) # 结果为 False"
   ]
  },
  {
   "cell_type": "code",
   "execution_count": 20,
   "metadata": {},
   "outputs": [
    {
     "name": "stdout",
     "output_type": "stream",
     "text": [
      "[[1. 0. 0. 0. 0.]\n",
      " [0. 1. 0. 0. 0.]\n",
      " [0. 0. 1. 0. 0.]\n",
      " [0. 0. 0. 1. 0.]\n",
      " [0. 0. 0. 0. 1.]]\n",
      "------------------------------\n",
      "[[1. 0. 0. 0. 0.]\n",
      " [1. 1. 0. 0. 0.]\n",
      " [1. 1. 1. 0. 0.]\n",
      " [1. 1. 1. 1. 0.]\n",
      " [1. 1. 1. 1. 1.]]\n",
      "------------------------------\n",
      "[[1. 1. 1. 1. 1.]\n",
      " [1. 2. 2. 2. 2.]\n",
      " [1. 2. 3. 3. 3.]\n",
      " [1. 2. 3. 4. 4.]\n",
      " [1. 2. 3. 4. 5.]]\n",
      "------------------------------\n",
      "[[1 0 0 0]\n",
      " [0 2 0 0]\n",
      " [0 0 3 0]\n",
      " [0 0 0 4]]\n",
      "------------------------------\n",
      "[[0 0 0 0 0]\n",
      " [1 0 0 0 0]\n",
      " [0 2 0 0 0]\n",
      " [0 0 3 0 0]\n",
      " [0 0 0 4 0]]\n"
     ]
    }
   ],
   "source": [
    "# task18\n",
    "# Create a 5x5 matrix with values 1,2,3,4 just below the diagonal\n",
    "# 创建一个5x5矩阵，值为1、2、3、4，正好位于对角线下方\n",
    "a = np.eye(5)\n",
    "print(a)\n",
    "print('-'*30)\n",
    "b = a.cumsum(axis=0)\n",
    "c = b.cumsum(axis=1)\n",
    "print(b)\n",
    "print('-'*30)\n",
    "print(c)\n",
    "print('-'*30)\n",
    "# 第二种做法\n",
    "z = np.diag(np.arange(1,5))\n",
    "print(z)\n",
    "print('-'*30)\n",
    "z = np.diag(np.arange(1,5),k=-1)\n",
    "print(z)"
   ]
  },
  {
   "cell_type": "code",
   "execution_count": 21,
   "metadata": {},
   "outputs": [
    {
     "name": "stdout",
     "output_type": "stream",
     "text": [
      "[[0. 0. 0. 0. 0. 0. 0. 0.]\n",
      " [0. 0. 0. 0. 0. 0. 0. 0.]\n",
      " [0. 0. 0. 0. 0. 0. 0. 0.]\n",
      " [0. 0. 0. 0. 0. 0. 0. 0.]\n",
      " [0. 0. 0. 0. 0. 0. 0. 0.]\n",
      " [0. 0. 0. 0. 0. 0. 0. 0.]\n",
      " [0. 0. 0. 0. 0. 0. 0. 0.]\n",
      " [0. 0. 0. 0. 0. 0. 0. 0.]]\n",
      "------------------------------\n",
      "[[0. 0. 0. 0. 0. 0. 0. 0.]\n",
      " [1. 0. 1. 0. 1. 0. 1. 0.]\n",
      " [0. 0. 0. 0. 0. 0. 0. 0.]\n",
      " [1. 0. 1. 0. 1. 0. 1. 0.]\n",
      " [0. 0. 0. 0. 0. 0. 0. 0.]\n",
      " [1. 0. 1. 0. 1. 0. 1. 0.]\n",
      " [0. 0. 0. 0. 0. 0. 0. 0.]\n",
      " [1. 0. 1. 0. 1. 0. 1. 0.]]\n",
      "------------------------------\n",
      "[[0. 1. 0. 1. 0. 1. 0. 1.]\n",
      " [1. 0. 1. 0. 1. 0. 1. 0.]\n",
      " [0. 1. 0. 1. 0. 1. 0. 1.]\n",
      " [1. 0. 1. 0. 1. 0. 1. 0.]\n",
      " [0. 1. 0. 1. 0. 1. 0. 1.]\n",
      " [1. 0. 1. 0. 1. 0. 1. 0.]\n",
      " [0. 1. 0. 1. 0. 1. 0. 1.]\n",
      " [1. 0. 1. 0. 1. 0. 1. 0.]]\n"
     ]
    }
   ],
   "source": [
    "# task19\n",
    "# Create a 8x8 matrix and fill it with a checkerboard pattern\n",
    "# 创建一个8x8的矩阵，并用一个棋盘图案填充它\n",
    "a = np.zeros((8,8))\n",
    "print(a)\n",
    "print('-'*30)\n",
    "a[1::2,::2] = 1\n",
    "print(a)\n",
    "print('-'*30)\n",
    "a[::2,1::2] = 1\n",
    "print(a)"
   ]
  },
  {
   "cell_type": "code",
   "execution_count": 22,
   "metadata": {},
   "outputs": [
    {
     "name": "stdout",
     "output_type": "stream",
     "text": [
      "[[[0. 0. 0. 0. 0. 0. 0. 0.]\n",
      "  [0. 0. 0. 0. 0. 0. 0. 0.]\n",
      "  [0. 0. 0. 0. 0. 0. 0. 0.]\n",
      "  [0. 0. 0. 0. 0. 0. 0. 0.]\n",
      "  [0. 0. 0. 0. 0. 0. 0. 0.]\n",
      "  [0. 0. 0. 0. 0. 0. 0. 0.]\n",
      "  [0. 0. 0. 0. 0. 0. 0. 0.]]\n",
      "\n",
      " [[0. 0. 0. 0. 0. 0. 0. 0.]\n",
      "  [0. 0. 0. 0. 0. 0. 0. 0.]\n",
      "  [0. 0. 0. 0. 0. 0. 0. 0.]\n",
      "  [0. 0. 0. 0. 0. 0. 0. 0.]\n",
      "  [0. 0. 0. 0. 0. 0. 0. 0.]\n",
      "  [0. 0. 0. 0. 0. 0. 0. 0.]\n",
      "  [0. 0. 0. 0. 0. 0. 0. 0.]]\n",
      "\n",
      " [[0. 0. 0. 0. 0. 0. 0. 0.]\n",
      "  [0. 0. 0. 0. 0. 0. 0. 0.]\n",
      "  [0. 0. 0. 0. 0. 0. 0. 0.]\n",
      "  [0. 0. 0. 0. 0. 0. 0. 0.]\n",
      "  [0. 0. 0. 0. 0. 0. 0. 0.]\n",
      "  [0. 0. 0. 0. 0. 0. 0. 0.]\n",
      "  [0. 0. 0. 0. 0. 0. 0. 0.]]\n",
      "\n",
      " [[0. 0. 0. 0. 0. 0. 0. 0.]\n",
      "  [0. 0. 0. 0. 0. 0. 0. 0.]\n",
      "  [0. 0. 0. 0. 0. 0. 0. 0.]\n",
      "  [0. 0. 0. 0. 0. 0. 0. 0.]\n",
      "  [0. 0. 0. 0. 0. 0. 0. 0.]\n",
      "  [0. 0. 0. 0. 0. 0. 0. 0.]\n",
      "  [0. 0. 0. 0. 0. 0. 0. 0.]]\n",
      "\n",
      " [[0. 0. 0. 0. 0. 0. 0. 0.]\n",
      "  [0. 0. 0. 0. 0. 0. 0. 0.]\n",
      "  [0. 0. 0. 0. 0. 0. 0. 0.]\n",
      "  [0. 0. 0. 0. 0. 0. 0. 0.]\n",
      "  [0. 0. 0. 0. 0. 0. 0. 0.]\n",
      "  [0. 0. 0. 0. 0. 0. 0. 0.]\n",
      "  [0. 0. 0. 0. 0. 0. 0. 0.]]\n",
      "\n",
      " [[0. 0. 0. 0. 0. 0. 0. 0.]\n",
      "  [0. 0. 0. 0. 0. 0. 0. 0.]\n",
      "  [0. 0. 0. 0. 0. 0. 0. 0.]\n",
      "  [0. 0. 0. 0. 0. 0. 0. 0.]\n",
      "  [0. 0. 0. 0. 0. 0. 0. 0.]\n",
      "  [0. 0. 0. 0. 0. 0. 0. 0.]\n",
      "  [0. 0. 0. 0. 0. 0. 0. 0.]]]\n",
      "------------------------------\n",
      "(1, 5, 3)\n"
     ]
    }
   ],
   "source": [
    "# task20\n",
    "# Consider a (6,7,8) shape array, what is the index (x,y,z) of the 100th element?\n",
    "# 考虑一个(6,7,8)形状数组，第100个元素的下标(x,y,z)是多少\n",
    "a = np.zeros((6,7,8))\n",
    "print(a)\n",
    "print('-'*30)\n",
    "b = np.unravel_index(99,a.shape)\n",
    "print(b)"
   ]
  },
  {
   "cell_type": "code",
   "execution_count": 23,
   "metadata": {},
   "outputs": [
    {
     "name": "stdout",
     "output_type": "stream",
     "text": [
      "[[0 1 0 1 0 1 0 1]\n",
      " [1 0 1 0 1 0 1 0]\n",
      " [0 1 0 1 0 1 0 1]\n",
      " [1 0 1 0 1 0 1 0]\n",
      " [0 1 0 1 0 1 0 1]\n",
      " [1 0 1 0 1 0 1 0]\n",
      " [0 1 0 1 0 1 0 1]\n",
      " [1 0 1 0 1 0 1 0]]\n"
     ]
    }
   ],
   "source": [
    "# task21\n",
    "# Create a checkerboard 8x8 matrix using the tile function\n",
    "# 使用tile函数创建一个8x8的棋盘矩阵\n",
    "# 就是 将[[0,1],[1,0]] 向横、纵铺4行、4列\n",
    "a = np.tile(np.array([[0,1],[1,0]]),(4,4))\n",
    "print(a)"
   ]
  },
  {
   "cell_type": "code",
   "execution_count": 24,
   "metadata": {},
   "outputs": [
    {
     "name": "stdout",
     "output_type": "stream",
     "text": [
      "[[0.16142339 0.79870583 0.17864338 0.86845434 0.43926668]\n",
      " [0.09109995 0.45597371 0.49723758 0.65523112 0.61880311]\n",
      " [0.60438981 0.6123302  0.71412538 0.73845528 0.89562626]\n",
      " [0.76912882 0.76945683 0.72208434 0.02839955 0.11794216]\n",
      " [0.55711154 0.79458281 0.11223238 0.14330672 0.29035617]]\n",
      "------------------------------\n",
      "[[-1.24428241  1.06115827 -1.18198716  1.31348135 -0.23915317]\n",
      " [-1.49868534 -0.17871361 -0.02943692  0.54212242  0.41034002]\n",
      " [ 0.3581983   0.38692355  0.75517901  0.84319514  1.41177881]\n",
      " [ 0.95416013  0.95534675  0.78397145 -1.72551105 -1.40158063]\n",
      " [ 0.18716384  1.04624279 -1.42223643 -1.30982149 -0.77785362]]\n",
      "------------------------------\n",
      "[[-1.04265494  0.83944261 -1.0306381   1.13496417 -0.12340232]\n",
      " [-1.30908349 -1.71801784  0.2027546   0.5009315   0.54528894]\n",
      " [ 0.63557492 -0.55128868  1.04240525  0.74840377  1.57632879]\n",
      " [ 1.25970783  0.62118718  1.07321725 -1.36299156 -1.32018944]\n",
      " [ 0.45645567  0.80867674 -1.28773899 -1.02130787 -0.67802597]]\n",
      "------------------------------\n"
     ]
    }
   ],
   "source": [
    "# task22\n",
    "# Normalize a 5x5 random matrix\n",
    "# 标准化一个5x5随机矩阵\n",
    "# 第一种\n",
    "a = np.random.random((5,5))\n",
    "b = a\n",
    "print(a)\n",
    "print('-'*30)\n",
    "a = (a - np.mean(a)) / (np.std(a))\n",
    "print(a)\n",
    "print('-'*30)\n",
    "\n",
    "# 第二种直接引入 sklearn模块中的 scale\n",
    "from sklearn.preprocessing import scale as sc\n",
    "b = sc(b)\n",
    "print(b)\n",
    "print('-'*30)"
   ]
  },
  {
   "cell_type": "code",
   "execution_count": 25,
   "metadata": {},
   "outputs": [
    {
     "name": "stdout",
     "output_type": "stream",
     "text": [
      "[('r', 'u1'), ('g', 'u1'), ('b', 'u1'), ('a', 'u1')]\n"
     ]
    }
   ],
   "source": [
    "# task23\n",
    "# Create a custom dtype that describes a color as four unsigned bytes (RGBA)\n",
    "# 创建一个自定义dtype，将颜色描述为四个无符号字节(RGBA)\n",
    "a = np.dtype([('r',np.ubyte),('g',np.ubyte),('b',np.ubyte),('a',np.ubyte)])\n",
    "print(a)"
   ]
  },
  {
   "cell_type": "code",
   "execution_count": 26,
   "metadata": {},
   "outputs": [
    {
     "name": "stdout",
     "output_type": "stream",
     "text": [
      "[[ 0  1  2]\n",
      " [ 3  4  5]\n",
      " [ 6  7  8]\n",
      " [ 9 10 11]\n",
      " [12 13 14]]\n",
      "------------------------------\n",
      "[[ 1  3]\n",
      " [ 5  7]\n",
      " [ 9 11]]\n",
      "------------------------------\n",
      "[[ 23  29]\n",
      " [ 68  92]\n",
      " [113 155]\n",
      " [158 218]\n",
      " [203 281]]\n",
      "------------------------------\n",
      "[[3. 3.]\n",
      " [3. 3.]\n",
      " [3. 3.]\n",
      " [3. 3.]\n",
      " [3. 3.]]\n"
     ]
    }
   ],
   "source": [
    "# task24\n",
    "# Multiply a 5x3 matrix by a 3x2 matrix (real matrix product)\n",
    "# 用一个5x3矩阵乘以一个3x2矩阵(实矩阵乘积)\n",
    "a = np.arange(15).reshape((5,3))\n",
    "print(a)\n",
    "print('-'*30)\n",
    "b = np.arange(1,13,2).reshape((3,2))\n",
    "print(b)\n",
    "print('-'*30)\n",
    "c = a.dot(b)\n",
    "print(c)\n",
    "print('-'*30)\n",
    "# 第二种做法：Python 3.5及以上版本的替代解决方案\n",
    "c = np.ones((5,3)) @ np.ones((3,2))\n",
    "print(c)"
   ]
  },
  {
   "cell_type": "code",
   "execution_count": 27,
   "metadata": {},
   "outputs": [
    {
     "name": "stdout",
     "output_type": "stream",
     "text": [
      "[16 11  5 14 12 14  9  5  3  9]\n",
      "------------------------------\n",
      "[16 11 -5 14 12 14  9 -5 -3  9]\n",
      "------------------------------\n",
      "[ 0  1  2 -3 -4 -5 -6 -7 -8  9 10]\n"
     ]
    }
   ],
   "source": [
    "# task25\n",
    "# Given a 1D array, negate all elements which are between 3 and 8, in place\n",
    "# 给定一个1D数组，对所有在3和8之间的元素进行反运算\n",
    "a = np.random.randint(2,20,10)\n",
    "print(a)\n",
    "print('-'*30)\n",
    "a = np.where((a >= 3)&(a <= 8),-a,a)\n",
    "print(a)\n",
    "print('-'*30)\n",
    "# 第二种做法\n",
    "z = np.arange(11)\n",
    "z[(z >= 3) & (z <= 8)] *= -1\n",
    "print(z)"
   ]
  },
  {
   "cell_type": "code",
   "execution_count": 28,
   "metadata": {},
   "outputs": [
    {
     "name": "stdout",
     "output_type": "stream",
     "text": [
      "9\n",
      "------------------------------\n",
      "10\n",
      "------------------------------\n",
      "10\n"
     ]
    }
   ],
   "source": [
    "# task26\n",
    "# What is the output of the following script?\n",
    "# 以下脚本的输出是什么\n",
    "print(sum(range(5),-1)) # 显示为 9\n",
    "print('-'*30)\n",
    "from numpy import *\n",
    "print(sum(range(5)))\n",
    "print('-'*30)\n",
    "print(sum(range(5),-1)) # 显示为 10，这里应用的sum 其实是 np.sum，即，实际为 numpy.sum(a,axis=None)"
   ]
  },
  {
   "cell_type": "code",
   "execution_count": 29,
   "metadata": {},
   "outputs": [
    {
     "name": "stdout",
     "output_type": "stream",
     "text": [
      "[10]\n",
      "[10000000000]\n",
      "[512]\n",
      "[False]\n",
      "[0.+10.j]\n",
      "[10.]\n",
      "[False]\n"
     ]
    }
   ],
   "source": [
    "# task27\n",
    "# Consider an integer vector Z, which of these expressions are legal?\n",
    "# 考虑一个整数向量Z,下列表达合法的是哪个?\n",
    "z = np.array([10])\n",
    "print(z) # 结果为 [10]\n",
    "print(z ** z) # 结果为 [10000000000]\n",
    "print(2 << z >> 2) # 结果为[512]\n",
    "print(z < -z) # 结果为 [False]\n",
    "print(1j*z) # 结果为 [0.+10.j]\n",
    "print(z/1/1) # 结果为 [10.]\n",
    "print(z<z>z) # 结果为 [False]"
   ]
  },
  {
   "cell_type": "code",
   "execution_count": 30,
   "metadata": {},
   "outputs": [
    {
     "name": "stdout",
     "output_type": "stream",
     "text": [
      "[-9.22337204e+18]\n"
     ]
    }
   ],
   "source": [
    "# task28\n",
    "# 下列表达式的结果是什么?\n",
    "# np.array(0) / np.array(0)\n",
    "# np.array(0) // np.array(0)\n",
    "# np.array([np.nan]).astype(int).astype(float)\n",
    "# a = np.array(0)/np.array(0) # 出现 warning错误，实际为 nan\n",
    "# print(a)\n",
    "# a = np.array(0) // np.array(0)\n",
    "# print(a) # 结果为0\n",
    "a = np.array([np.nan]).astype(int).astype(float)\n",
    "print(a) # 结果为 -9.22337e+18"
   ]
  },
  {
   "cell_type": "code",
   "execution_count": 31,
   "metadata": {},
   "outputs": [
    {
     "name": "stdout",
     "output_type": "stream",
     "text": [
      "[ 1.55077728  8.30035366 -3.44333251  0.95805042 -1.96429249  3.44006644\n",
      " -9.98710121 -6.32190385  9.88920258 -0.79425486]\n",
      "------------------------------\n",
      "[  2.   9.  -4.   1.  -2.   4. -10.  -7.  10.  -1.]\n",
      "------------------------------\n",
      "[  2.   9.  -4.   1.  -2.   4. -10.  -7.  10.  -1.]\n"
     ]
    }
   ],
   "source": [
    "# task29\n",
    "# How to round away from zero a float array ?\n",
    "# 如何从零四舍五入浮点数组\n",
    "a = np.random.uniform(-10,+10,10)\n",
    "print(a)\n",
    "print('-'*30)\n",
    "b = np.copysign(np.ceil(np.abs(a)),a)\n",
    "print(b)\n",
    "print('-'*30)\n",
    "# 第二种做法：np.ceil即为上限，np.floor 为下限\n",
    "# 即：大于0时，向上取整；小于0时，向下取整；\n",
    "c = np.where(a>0,np.ceil(a),np.floor(a))\n",
    "print(c)"
   ]
  },
  {
   "cell_type": "code",
   "execution_count": 32,
   "metadata": {},
   "outputs": [
    {
     "name": "stdout",
     "output_type": "stream",
     "text": [
      "[8 9 2 2 2 6 5 8 3 0]\n",
      "------------------------------\n",
      "[3 9 6 4 4 0 8 5 3 7]\n",
      "------------------------------\n",
      "[0 3 5 6 8 9]\n"
     ]
    }
   ],
   "source": [
    "# task30\n",
    "# 如何找到两个数组之间的共同值?\n",
    "a1 = np.random.randint(0,10,10)\n",
    "a2 = np.random.randint(0,10,10)\n",
    "print(a1)\n",
    "print('-'*30)\n",
    "print(a2)\n",
    "print('-'*30)\n",
    "b = np.intersect1d(a1,a2)\n",
    "print(b)"
   ]
  },
  {
   "cell_type": "code",
   "execution_count": 33,
   "metadata": {},
   "outputs": [],
   "source": [
    "# task31\n",
    "# How to ignore all numpy warnings (not recommended)?\n",
    "# 如何忽略所有numpy警告(不推荐)?\n",
    "with np.errstate(all='ignore'):\n",
    "    np.arange(3) / 0"
   ]
  },
  {
   "cell_type": "code",
   "execution_count": 34,
   "metadata": {},
   "outputs": [],
   "source": [
    "# task32\n",
    "# Is the following expressions true?\n",
    "# 下列表达正确吗?\n",
    "# print(np.sqrt(-1) == np.emath.sqrt(-1)) # 结果显示为 False"
   ]
  },
  {
   "cell_type": "code",
   "execution_count": 35,
   "metadata": {},
   "outputs": [
    {
     "name": "stdout",
     "output_type": "stream",
     "text": [
      "2022-04-11\n",
      "------------------------------\n",
      "2022-04-12\n",
      "------------------------------\n",
      "2022-04-13\n",
      "------------------------------\n",
      "366 days\n"
     ]
    }
   ],
   "source": [
    "# task33\n",
    "# 如何得到昨天，今天和明天的日期?\n",
    "yesterday1 = np.datetime64('today') - np.timedelta64(1)\n",
    "today1 = np.datetime64('today')\n",
    "tomorrow1 = np.datetime64('today') + np.timedelta64(1)\n",
    "print(yesterday1)\n",
    "print('-'*30)\n",
    "print(today1)\n",
    "print('-'*30)\n",
    "print(tomorrow1)\n",
    "print('-'*30)\n",
    "print(np.datetime64('2009-01-01') - np.datetime64('2008-01-01'))"
   ]
  },
  {
   "cell_type": "code",
   "execution_count": 36,
   "metadata": {},
   "outputs": [
    {
     "name": "stdout",
     "output_type": "stream",
     "text": [
      "['2016-07-01' '2016-07-02' '2016-07-03' '2016-07-04' '2016-07-05'\n",
      " '2016-07-06' '2016-07-07' '2016-07-08' '2016-07-09' '2016-07-10'\n",
      " '2016-07-11' '2016-07-12' '2016-07-13' '2016-07-14' '2016-07-15'\n",
      " '2016-07-16' '2016-07-17' '2016-07-18' '2016-07-19' '2016-07-20'\n",
      " '2016-07-21' '2016-07-22' '2016-07-23' '2016-07-24' '2016-07-25'\n",
      " '2016-07-26' '2016-07-27' '2016-07-28' '2016-07-29' '2016-07-30'\n",
      " '2016-07-31']\n"
     ]
    }
   ],
   "source": [
    "# task34\n",
    "# 如何获得2016年7月对应的所有日期\n",
    "a = np.arange('2016-07','2016-08',dtype='datetime64[D]')\n",
    "print(a)"
   ]
  },
  {
   "cell_type": "code",
   "execution_count": 37,
   "metadata": {},
   "outputs": [
    {
     "name": "stdout",
     "output_type": "stream",
     "text": [
      "[-1.5 -1.5 -1.5]\n"
     ]
    }
   ],
   "source": [
    "# task35\n",
    "# 如何计算((A+B)*(A/2))到位(没有副本)?\n",
    "A = np.ones(3)*1\n",
    "B = np.ones(3)*2\n",
    "np.add(A,B,out=B)\n",
    "np.divide(A,2,out=A)\n",
    "np.negative(A,out=A)\n",
    "np.multiply(A,B,out=A)\n",
    "print(A)"
   ]
  },
  {
   "cell_type": "code",
   "execution_count": 38,
   "metadata": {},
   "outputs": [
    {
     "name": "stdout",
     "output_type": "stream",
     "text": [
      "[9.18674803 2.22833039 5.34524139 8.97816491 1.47854541 5.90875315\n",
      " 0.73976619 9.73350332 3.88273781 9.93420539]\n",
      "------------------------------\n",
      "[9. 2. 5. 8. 1. 5. 0. 9. 3. 9.]\n",
      "[9. 2. 5. 8. 1. 5. 0. 9. 3. 9.]\n",
      "[9. 2. 5. 8. 1. 5. 0. 9. 3. 9.]\n",
      "[9. 2. 5. 8. 1. 5. 0. 9. 3. 9.]\n",
      "[9 2 5 8 1 5 0 9 3 9]\n",
      "[9. 2. 5. 8. 1. 5. 0. 9. 3. 9.]\n"
     ]
    }
   ],
   "source": [
    "# task36\n",
    "# 用5种不同的方法提取随机数组中的整数部分\n",
    "a = np.random.uniform(0,10,10)\n",
    "print(a)\n",
    "print('-'*30)\n",
    "# 第一种\n",
    "print(a - a%1)\n",
    "# 第二种\n",
    "print(a // 1)\n",
    "# 第三种\n",
    "print(np.floor(a))\n",
    "# 第四种\n",
    "print(np.ceil(a)-1)\n",
    "# 第五种\n",
    "print(a.astype(int))\n",
    "# 第六种\n",
    "print(np.trunc(a))"
   ]
  },
  {
   "cell_type": "code",
   "execution_count": 39,
   "metadata": {},
   "outputs": [
    {
     "name": "stdout",
     "output_type": "stream",
     "text": [
      "[[0. 1. 2. 3. 4.]\n",
      " [0. 1. 2. 3. 4.]\n",
      " [0. 1. 2. 3. 4.]\n",
      " [0. 1. 2. 3. 4.]\n",
      " [0. 1. 2. 3. 4.]]\n"
     ]
    }
   ],
   "source": [
    "# task37\n",
    "# 创建一个5x5的矩阵且每一行的值范围为从0到4\n",
    "a = np.zeros((5,5))\n",
    "a1 = np.arange(5)\n",
    "a += a1\n",
    "print(a)"
   ]
  },
  {
   "cell_type": "code",
   "execution_count": 40,
   "metadata": {},
   "outputs": [
    {
     "name": "stdout",
     "output_type": "stream",
     "text": [
      "[0. 1. 2. 3. 4. 5. 6. 7. 8. 9.]\n"
     ]
    }
   ],
   "source": [
    "# task38\n",
    "# 如何用一个生成10个整数的函数来构建数组\n",
    "def gen():\n",
    "    for x in range(10):\n",
    "        yield x\n",
    "a = np.fromiter(gen(),dtype=float,count=-1)\n",
    "print(a)"
   ]
  },
  {
   "cell_type": "code",
   "execution_count": 41,
   "metadata": {},
   "outputs": [
    {
     "name": "stdout",
     "output_type": "stream",
     "text": [
      "[0.09090909 0.18181818 0.27272727 0.36363636 0.45454545 0.54545455\n",
      " 0.63636364 0.72727273 0.81818182 0.90909091]\n"
     ]
    }
   ],
   "source": [
    "# task39\n",
    "# 创建一个大小为10的向量， 值域为0到1，不包括0和1\n",
    "a = np.linspace(0,1,12,endpoint=True)[1:-1]\n",
    "print(a)"
   ]
  },
  {
   "cell_type": "code",
   "execution_count": 42,
   "metadata": {},
   "outputs": [
    {
     "name": "stdout",
     "output_type": "stream",
     "text": [
      "[0.00544639 0.04718408 0.06102418 0.14811162 0.25385507 0.29372748\n",
      " 0.3072336  0.41281501 0.8146714  0.83902202]\n"
     ]
    }
   ],
   "source": [
    "# task40\n",
    "# 创建一个大小为10的随机向量并对其排序\n",
    "a = np.random.random(10)\n",
    "a.sort()\n",
    "print(a)"
   ]
  },
  {
   "cell_type": "code",
   "execution_count": 43,
   "metadata": {},
   "outputs": [
    {
     "name": "stdout",
     "output_type": "stream",
     "text": [
      "45\n"
     ]
    }
   ],
   "source": [
    "# task41\n",
    "# 如何求和一个小数组比np.sum更快\n",
    "a = np.arange(10)\n",
    "print(np.add.reduce(a))"
   ]
  },
  {
   "cell_type": "code",
   "execution_count": 45,
   "metadata": {},
   "outputs": [
    {
     "name": "stdout",
     "output_type": "stream",
     "text": [
      "[1 0 0 1 1]\n",
      "------------------------------\n",
      "[1 0 1 1 0]\n",
      "------------------------------\n",
      "False\n",
      "------------------------------\n",
      "False\n"
     ]
    }
   ],
   "source": [
    "# task42\n",
    "# 考虑两个随机数组A和B，检查它们是否相等\n",
    "a = np.random.randint(0,2,5)\n",
    "print(a)\n",
    "print('-'*30)\n",
    "b = np.random.randint(0,2,5)\n",
    "print(b)\n",
    "print('-'*30)\n",
    "# 假设array的形状(shape)相同和一个误差容限（tolerance)\n",
    "eq = np.allclose(a,b)\n",
    "print(eq)\n",
    "# 检查形状和元素值，没有误差容限（值必须完全相等）\n",
    "eq2 = np.array_equal(a,b)\n",
    "print('-'*30)\n",
    "print(eq2)"
   ]
  },
  {
   "cell_type": "code",
   "execution_count": 46,
   "metadata": {},
   "outputs": [],
   "source": [
    "# task43\n",
    "# 把数组变为只读\n",
    "a = np.zeros(5)\n",
    "a.flags.writeable = False"
   ]
  },
  {
   "cell_type": "code",
   "execution_count": 47,
   "metadata": {},
   "outputs": [
    {
     "name": "stdout",
     "output_type": "stream",
     "text": [
      "[0.7477733  0.72710292 1.00402108 0.84105698 1.23232313 1.02212603\n",
      " 0.97306575 0.73050191 0.98040467 0.29341789]\n",
      "------------------------------\n",
      "[1.01646995 1.52985984 0.97480256 0.83081847 0.75123175 0.40459558\n",
      " 1.33651039 1.1684748  0.14049209 1.18587292]\n"
     ]
    }
   ],
   "source": [
    "# task44\n",
    "# 将一个10x2的笛卡尔坐标矩阵转换为极坐标\n",
    "a = np.random.random((10,2))\n",
    "x,y = a[:,0],a[:,1]\n",
    "r = np.sqrt(x ** 2 + y ** 2)\n",
    "t = np.arctan2(y,x)\n",
    "print(r)\n",
    "print('-'*30)\n",
    "print(t)"
   ]
  },
  {
   "cell_type": "code",
   "execution_count": 48,
   "metadata": {},
   "outputs": [
    {
     "name": "stdout",
     "output_type": "stream",
     "text": [
      "[0.47723129 0.12867796 0.83720144 0.1654     0.63433502 0.16405114\n",
      " 0.55208272 0.75007866 0.10685408 0.09092501]\n",
      "------------------------------\n",
      "[0.47723129 0.12867796 0.         0.1654     0.63433502 0.16405114\n",
      " 0.55208272 0.75007866 0.10685408 0.09092501]\n"
     ]
    }
   ],
   "source": [
    "# task45\n",
    "# 创建一个大小为10的随机向量并且将该向量中最大的值替换为0\n",
    "a = np.random.random(10)\n",
    "print(a)\n",
    "print('-'*30)\n",
    "a[a.argmax()] = 0\n",
    "print(a)"
   ]
  },
  {
   "cell_type": "code",
   "execution_count": 49,
   "metadata": {},
   "outputs": [
    {
     "name": "stdout",
     "output_type": "stream",
     "text": [
      "[[(0.  , 0.  ) (0.25, 0.  ) (0.5 , 0.  ) (0.75, 0.  ) (1.  , 0.  )]\n",
      " [(0.  , 0.25) (0.25, 0.25) (0.5 , 0.25) (0.75, 0.25) (1.  , 0.25)]\n",
      " [(0.  , 0.5 ) (0.25, 0.5 ) (0.5 , 0.5 ) (0.75, 0.5 ) (1.  , 0.5 )]\n",
      " [(0.  , 0.75) (0.25, 0.75) (0.5 , 0.75) (0.75, 0.75) (1.  , 0.75)]\n",
      " [(0.  , 1.  ) (0.25, 1.  ) (0.5 , 1.  ) (0.75, 1.  ) (1.  , 1.  )]]\n"
     ]
    }
   ],
   "source": [
    "# task46\n",
    "# 创建一个结构化数组，其中x和y坐标覆盖[0, 1]x[1, 0]区域\n",
    "a = np.zeros((5,5),[('x',float),('y',float)])\n",
    "a['x'],a['y'] = np.meshgrid(np.linspace(0,1,5),np.linspace(0,1,5))\n",
    "print(a)"
   ]
  },
  {
   "cell_type": "code",
   "execution_count": 50,
   "metadata": {},
   "outputs": [
    {
     "name": "stdout",
     "output_type": "stream",
     "text": [
      "[0 1 2 3 4 5 6 7]\n",
      "------------------------------\n",
      "[0.5 1.5 2.5 3.5 4.5 5.5 6.5 7.5]\n",
      "------------------------------\n",
      "[[-2.         -0.66666667 -0.4        -0.28571429 -0.22222222 -0.18181818\n",
      "  -0.15384615 -0.13333333]\n",
      " [ 2.         -2.         -0.66666667 -0.4        -0.28571429 -0.22222222\n",
      "  -0.18181818 -0.15384615]\n",
      " [ 0.66666667  2.         -2.         -0.66666667 -0.4        -0.28571429\n",
      "  -0.22222222 -0.18181818]\n",
      " [ 0.4         0.66666667  2.         -2.         -0.66666667 -0.4\n",
      "  -0.28571429 -0.22222222]\n",
      " [ 0.28571429  0.4         0.66666667  2.         -2.         -0.66666667\n",
      "  -0.4        -0.28571429]\n",
      " [ 0.22222222  0.28571429  0.4         0.66666667  2.         -2.\n",
      "  -0.66666667 -0.4       ]\n",
      " [ 0.18181818  0.22222222  0.28571429  0.4         0.66666667  2.\n",
      "  -2.         -0.66666667]\n",
      " [ 0.15384615  0.18181818  0.22222222  0.28571429  0.4         0.66666667\n",
      "   2.         -2.        ]]\n",
      "------------------------------\n",
      "3638.1636371179666\n"
     ]
    }
   ],
   "source": [
    "# task47\n",
    "# 给定两个数组X和Y，构造柯西(Cauchy)矩阵C ()\n",
    "X = np.arange(8)\n",
    "print(X)\n",
    "print('-'*30)\n",
    "Y = X +0.5\n",
    "print(Y)\n",
    "print('-'*30)\n",
    "c = 1/np.subtract.outer(X,Y)\n",
    "print(c)\n",
    "print('-'*30)\n",
    "print(np.linalg.det(c))"
   ]
  },
  {
   "cell_type": "code",
   "execution_count": 51,
   "metadata": {},
   "outputs": [
    {
     "name": "stdout",
     "output_type": "stream",
     "text": [
      "-128\n",
      "127\n",
      "------------------------------\n",
      "-2147483648\n",
      "2147483647\n",
      "------------------------------\n",
      "-9223372036854775808\n",
      "9223372036854775807\n",
      "------------------------------\n",
      "-3.4028235e+38\n",
      "3.4028235e+38\n",
      "1.1920929e-07\n",
      "------------------------------\n",
      "-1.7976931348623157e+308\n",
      "1.7976931348623157e+308\n",
      "2.220446049250313e-16\n",
      "------------------------------\n"
     ]
    }
   ],
   "source": [
    "# task48\n",
    "# 打印每个numpy 类型的最小和最大可表示值\n",
    "for d in [np.int8,np.int32,np.int64]:\n",
    "    print(np.iinfo(d).min)\n",
    "    print(np.iinfo(d).max)\n",
    "    print('-'*30)\n",
    "for d in [np.float32,np.float64]:\n",
    "    print(np.finfo(d).min)\n",
    "    print(np.finfo(d).max)\n",
    "    print(np.finfo(d).eps)\n",
    "    print('-'*30)"
   ]
  },
  {
   "cell_type": "code",
   "execution_count": 52,
   "metadata": {},
   "outputs": [
    {
     "name": "stdout",
     "output_type": "stream",
     "text": [
      "[[0. 0. 0. 0. 0. 0. 0. 0. 0. 0. 0. 0. 0. 0. 0. 0.]\n",
      " [0. 0. 0. 0. 0. 0. 0. 0. 0. 0. 0. 0. 0. 0. 0. 0.]\n",
      " [0. 0. 0. 0. 0. 0. 0. 0. 0. 0. 0. 0. 0. 0. 0. 0.]\n",
      " [0. 0. 0. 0. 0. 0. 0. 0. 0. 0. 0. 0. 0. 0. 0. 0.]\n",
      " [0. 0. 0. 0. 0. 0. 0. 0. 0. 0. 0. 0. 0. 0. 0. 0.]\n",
      " [0. 0. 0. 0. 0. 0. 0. 0. 0. 0. 0. 0. 0. 0. 0. 0.]\n",
      " [0. 0. 0. 0. 0. 0. 0. 0. 0. 0. 0. 0. 0. 0. 0. 0.]\n",
      " [0. 0. 0. 0. 0. 0. 0. 0. 0. 0. 0. 0. 0. 0. 0. 0.]\n",
      " [0. 0. 0. 0. 0. 0. 0. 0. 0. 0. 0. 0. 0. 0. 0. 0.]\n",
      " [0. 0. 0. 0. 0. 0. 0. 0. 0. 0. 0. 0. 0. 0. 0. 0.]\n",
      " [0. 0. 0. 0. 0. 0. 0. 0. 0. 0. 0. 0. 0. 0. 0. 0.]\n",
      " [0. 0. 0. 0. 0. 0. 0. 0. 0. 0. 0. 0. 0. 0. 0. 0.]\n",
      " [0. 0. 0. 0. 0. 0. 0. 0. 0. 0. 0. 0. 0. 0. 0. 0.]\n",
      " [0. 0. 0. 0. 0. 0. 0. 0. 0. 0. 0. 0. 0. 0. 0. 0.]\n",
      " [0. 0. 0. 0. 0. 0. 0. 0. 0. 0. 0. 0. 0. 0. 0. 0.]\n",
      " [0. 0. 0. 0. 0. 0. 0. 0. 0. 0. 0. 0. 0. 0. 0. 0.]]\n"
     ]
    }
   ],
   "source": [
    "# task49\n",
    "# 如何打印数组中所有的值\n",
    "# 打印出所有行、所有列\n",
    "np.set_printoptions(threshold=None)\n",
    "a = np.zeros((16,16))\n",
    "print(a)"
   ]
  },
  {
   "cell_type": "code",
   "execution_count": 53,
   "metadata": {},
   "outputs": [
    {
     "name": "stdout",
     "output_type": "stream",
     "text": [
      "51\n"
     ]
    }
   ],
   "source": [
    "# task50\n",
    "# 如何在数组中找到与给定标量接近的值\n",
    "Z = np.arange(100)\n",
    "v = np.random.uniform(0,100)\n",
    "index = (np.abs(Z-v)).argmin()\n",
    "print(Z[index])"
   ]
  },
  {
   "cell_type": "code",
   "execution_count": null,
   "metadata": {},
   "outputs": [],
   "source": []
  }
 ],
 "metadata": {
  "kernelspec": {
   "display_name": "Python 3",
   "language": "python",
   "name": "python3"
  },
  "language_info": {
   "codemirror_mode": {
    "name": "ipython",
    "version": 3
   },
   "file_extension": ".py",
   "mimetype": "text/x-python",
   "name": "python",
   "nbconvert_exporter": "python",
   "pygments_lexer": "ipython3",
   "version": "3.7.6"
  }
 },
 "nbformat": 4,
 "nbformat_minor": 4
}
